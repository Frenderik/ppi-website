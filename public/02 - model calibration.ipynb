{
 "cells": [
  {
   "cell_type": "markdown",
   "id": "af4bfe6e",
   "metadata": {},
   "source": [
    "# <center>Model calibration</center>\n",
    "\n",
    "Prepared by Omar A. Guerrero (oguerrero@turing.ac.uk, <a href=\"https://twitter.com/guerrero_oa\">@guerrero_oa</a>)\n",
    "\n",
    "In this tutorial I will calibrate the free parameters of PPI's model. First, I will load all the data that I have prepared in the previous tutorials. Then, I extract the relevant information and put it in adequate data structures. Finally, I run the calibration function and save the results with the parameter values."
   ]
  },
  {
   "cell_type": "markdown",
   "id": "0077e294",
   "metadata": {},
   "source": [
    "## Importing Python libraries to manipulate data"
   ]
  },
  {
   "cell_type": "code",
   "execution_count": 1,
   "id": "fb9d93d1",
   "metadata": {},
   "outputs": [],
   "source": [
    "import pandas as pd\n",
    "import numpy as np"
   ]
  },
  {
   "cell_type": "markdown",
   "id": "5f56449b",
   "metadata": {},
   "source": [
    "## Importing PPI functions\n",
    "\n",
    "In this tutorial, I will import the PPI source code directly from its repository. This means that I will place a request to GitHub, download the `policy_priority_inference.py` file, and copy it locally into the folder where these tutorials are saved. Then, I will import PPI. This approach is useful if you want to run this tutorial in a cloud computing service.\n",
    "\n",
    "An alternative would be to manually copy the `policy_priority_inference.py` file into the folder where this tutorial is located."
   ]
  },
  {
   "cell_type": "code",
   "execution_count": 2,
   "id": "88cfa647",
   "metadata": {},
   "outputs": [],
   "source": [
    "import requests # the Python library that helps placing requests to websites\n",
    "url = 'https://raw.githubusercontent.com/oguerrer/ppi/main/source_code/policy_priority_inference.py'\n",
    "r = requests.get(url)\n",
    "with open('policy_priority_inference.py', 'w') as f:\n",
    "    f.write(r.text)\n",
    "import policy_priority_inference as ppi"
   ]
  },
  {
   "cell_type": "markdown",
   "id": "4e2963d9",
   "metadata": {},
   "source": [
    "## Load data"
   ]
  },
  {
   "cell_type": "markdown",
   "id": "f642dd32",
   "metadata": {},
   "source": [
    "### Indicators"
   ]
  },
  {
   "cell_type": "code",
   "execution_count": 3,
   "id": "9e07398c",
   "metadata": {},
   "outputs": [],
   "source": [
    "df_indis = pd.read_csv('https://raw.githubusercontent.com/oguerrer/ppi/main/tutorials/clean_data/data_indicators.csv')\n",
    "\n",
    "N = len(df_indis) # number of indicators\n",
    "I0 = df_indis.I0.values # initial values\n",
    "IF = df_indis.IF.values # final values\n",
    "success_rates = df_indis.successRates.values # success rates\n",
    "R = df_indis.instrumental # instrumental indicators\n",
    "qm = df_indis.qm.values # quality of monitoring\n",
    "rl = df_indis.rl.values # quality of the rule of law\n",
    "indis_index = dict([(code, i) for i, code in enumerate(df_indis.seriesCode)]) # used to build the network matrix"
   ]
  },
  {
   "cell_type": "markdown",
   "id": "49f8cf95",
   "metadata": {},
   "source": [
    "### Interdependency network"
   ]
  },
  {
   "cell_type": "code",
   "execution_count": 4,
   "id": "2cb786f7",
   "metadata": {},
   "outputs": [],
   "source": [
    "df_net = pd.read_csv('https://raw.githubusercontent.com/oguerrer/ppi/main/tutorials/clean_data/data_network.csv')\n",
    "\n",
    "A = np.zeros((N, N)) # adjacency matrix\n",
    "for index, row in df_net.iterrows():\n",
    "    i = indis_index[row.origin]\n",
    "    j = indis_index[row.destination]\n",
    "    w = row.weight\n",
    "    A[i,j] = w"
   ]
  },
  {
   "cell_type": "markdown",
   "id": "f69236e0",
   "metadata": {},
   "source": [
    "### Budget"
   ]
  },
  {
   "cell_type": "code",
   "execution_count": 5,
   "id": "8b9779e8",
   "metadata": {},
   "outputs": [],
   "source": [
    "df_exp = pd.read_csv('https://raw.githubusercontent.com/oguerrer/ppi/main/tutorials/clean_data/data_expenditure.csv')\n",
    "\n",
    "Bs = df_exp.values[:,1::] # disbursement schedule (assumes that the expenditure programmes are properly sorted)"
   ]
  },
  {
   "cell_type": "markdown",
   "id": "ed4e8a07",
   "metadata": {},
   "source": [
    "### Budget-indicator mapping"
   ]
  },
  {
   "cell_type": "code",
   "execution_count": 6,
   "id": "007a8c6e",
   "metadata": {},
   "outputs": [],
   "source": [
    "df_rela = pd.read_csv('https://raw.githubusercontent.com/oguerrer/ppi/main/tutorials/clean_data/data_relational_table.csv')\n",
    "\n",
    "B_dict = {} # PPI needs the relational table in the form of a Python dictionary\n",
    "for index, row in df_rela.iterrows():\n",
    "    B_dict[indis_index[row.seriesCode]] = [programme for programme in row.values[1::][row.values[1::].astype(str)!='nan']]"
   ]
  },
  {
   "cell_type": "markdown",
   "id": "3c410c35",
   "metadata": {},
   "source": [
    "## Calibrate\n",
    "\n",
    "Now I run the calibration function to show that it works. Before that, let me explain a couple of new inputs that the user needs to provide:\n",
    "\n",
    "* <strong>threshold</strong>: How well should the model be fit.\n",
    "* <strong>parallel_processes</strong>: The number of processes (workers) to be ran in parallel.\n",
    "* <strong>verbose</strong>: Whether to print or not the outputs as the calibration progresses.\n",
    "* <strong>low_precision_counts</strong>: The number of iterations that use few Monte Carlo simulations.\n",
    "\n",
    "The <strong>threshold</strong> parameter indicates the quality of the goodness of fit. More specifically, how good should the worst-fitted indicator be. The best possible fit is close to 1, but cannot be exactly 1 due to the stochasticity of the model. The higher the threshold, the mode Monte Carlo simulations are needed and, thus, the more time and computational resources are needed to complete the calibration.\n",
    "\n",
    "Parameter <strong>parallel_processes</strong> is used to enhance efficiency. Since each Monte Carlo simulation is independent of each other, this workload can be distributed across multiple cores or processors. Today, most personal devices have the capability of handling this distributed load, so here I show how to calibrate the model using 4 parallel processes. It is recommended that you know how many cores or processors your equipment has, and that <strong>parallel_processes</strong> does not exceed that number. Otherwise, the performance of the calibration may be sub-optimal.\n",
    "\n",
    "Finally, the <strong>low_precision_counts</strong> parameter helps accelerating the calibration. At the beginning of the calibration, the algorithm proposes a random set of parameters for the model. Because this proposal is unrelated to the true parameters, the errors tend to be large. In the presence of large errors, one can improve the goodness of fit without needing too much precision in each evaluation (i.e., without running too many Monte Carlo simulations). Hence, this parameter determines how many low-precision iterations of the algorithm should be run before proceeding to the high-precision ones. This accelerates the calibration procedure substantially."
   ]
  },
  {
   "cell_type": "code",
   "execution_count": 7,
   "id": "0970d585",
   "metadata": {},
   "outputs": [
    {
     "name": "stdout",
     "output_type": "stream",
     "text": [
      "Iteration: 1 .    Worst goodness of fit: -1016997.9999979653\n",
      "Iteration: 2 .    Worst goodness of fit: -437999.9999991237\n",
      "Iteration: 3 .    Worst goodness of fit: -278999.9999994418\n",
      "Iteration: 4 .    Worst goodness of fit: -67078.12499986577\n",
      "Iteration: 5 .    Worst goodness of fit: -13814.406249972357\n",
      "Iteration: 6 .    Worst goodness of fit: -26999.99999994598\n",
      "Iteration: 7 .    Worst goodness of fit: -15910.59765621816\n",
      "Iteration: 8 .    Worst goodness of fit: -10124.999999979742\n",
      "Iteration: 9 .    Worst goodness of fit: -407.14601293131483\n",
      "Iteration: 10 .    Worst goodness of fit: -2914.3981933535442\n",
      "Iteration: 11 .    Worst goodness of fit: -428.1786751585656\n",
      "Iteration: 12 .    Worst goodness of fit: -1384.8953247042602\n",
      "Iteration: 13 .    Worst goodness of fit: -425.56557464514054\n",
      "Iteration: 14 .    Worst goodness of fit: -482.8362464895126\n",
      "Iteration: 15 .    Worst goodness of fit: -90.81301498394517\n",
      "Iteration: 16 .    Worst goodness of fit: -170.1137423511916\n",
      "Iteration: 17 .    Worst goodness of fit: -54.50904774654527\n",
      "Iteration: 18 .    Worst goodness of fit: -68.92539560781039\n",
      "Iteration: 19 .    Worst goodness of fit: -17.834382459481613\n",
      "Iteration: 20 .    Worst goodness of fit: -22.38242235030226\n",
      "Iteration: 21 .    Worst goodness of fit: -0.39136576961127423\n",
      "Iteration: 22 .    Worst goodness of fit: -2.7190250996374528\n",
      "Iteration: 23 .    Worst goodness of fit: -7.366362144778174\n",
      "Iteration: 24 .    Worst goodness of fit: -0.49759787048775994\n",
      "Iteration: 25 .    Worst goodness of fit: -1.0554901841425908\n",
      "Iteration: 26 .    Worst goodness of fit: -2.8853796347475624\n",
      "Iteration: 27 .    Worst goodness of fit: 0.20906580694127197\n",
      "Iteration: 28 .    Worst goodness of fit: -0.1935102805982889\n",
      "Iteration: 29 .    Worst goodness of fit: -1.2330033746938356\n",
      "Iteration: 30 .    Worst goodness of fit: 0.2505005539750348\n",
      "Iteration: 31 .    Worst goodness of fit: 0.03383790871539638\n",
      "Iteration: 32 .    Worst goodness of fit: 0.03653297358873753\n",
      "Iteration: 33 .    Worst goodness of fit: 0.3696584989937456\n",
      "Iteration: 34 .    Worst goodness of fit: 0.34475504883100083\n",
      "Iteration: 35 .    Worst goodness of fit: 0.20121479391186525\n",
      "Iteration: 36 .    Worst goodness of fit: 0.19590923186332565\n",
      "Iteration: 37 .    Worst goodness of fit: 0.1983264070531584\n",
      "Iteration: 38 .    Worst goodness of fit: -0.022562248861894618\n",
      "Iteration: 39 .    Worst goodness of fit: 0.2663319841421301\n",
      "Iteration: 40 .    Worst goodness of fit: 0.17196991813276408\n",
      "Iteration: 41 .    Worst goodness of fit: 0.18763810995109997\n",
      "Iteration: 42 .    Worst goodness of fit: -1.3527529354045296\n",
      "Iteration: 43 .    Worst goodness of fit: -0.4255959191432619\n",
      "Iteration: 44 .    Worst goodness of fit: -0.22647900445282243\n",
      "Iteration: 45 .    Worst goodness of fit: 0.08673757991787268\n",
      "Iteration: 46 .    Worst goodness of fit: 0.30222062774677083\n",
      "Iteration: 47 .    Worst goodness of fit: 0.26353442981888775\n",
      "Iteration: 48 .    Worst goodness of fit: 0.3204312138080261\n",
      "Iteration: 49 .    Worst goodness of fit: 0.46907029496690267\n",
      "Iteration: 50 .    Worst goodness of fit: 0.4372859579581233\n",
      "Iteration: 51 .    Worst goodness of fit: 0.4073259226969407\n",
      "Iteration: 52 .    Worst goodness of fit: 0.47695098309686157\n",
      "Iteration: 53 .    Worst goodness of fit: 0.7741601926225314\n"
     ]
    }
   ],
   "source": [
    "T = Bs.shape[1]\n",
    "parallel_processes = 4 # number of cores to use\n",
    "threshold = 0.6 # the quality of the calibration (I choose a medium quality for illustration purposes)\n",
    "low_precision_counts = 50 # number of low-quality iterations to accelerate the calibration\n",
    "\n",
    "parameters = ppi.calibrate(I0, IF, success_rates, A=A, R=R, qm=qm, rl=rl, Bs=Bs, B_dict=B_dict,\n",
    "              T=T, threshold=threshold, parallel_processes=parallel_processes, verbose=True,\n",
    "             low_precision_counts=low_precision_counts)"
   ]
  },
  {
   "cell_type": "markdown",
   "id": "b2572ad1",
   "metadata": {},
   "source": [
    "## Calibration outputs\n",
    "\n",
    "The output of the calibration function is a matrix with the following columns:\n",
    "\n",
    "* <strong>alpha</strong>: the parameters related to structural constraints\n",
    "* <strong>alpha_prime</strong>: the parameters related to structural costs\n",
    "* <strong>beta</strong>: the parameters related to the probability of success\n",
    "* <strong>T</strong>: the number of simulation periods\n",
    "* <strong>error_alpha</strong>: the errors associated to the parameters $\\alpha$ and $\\alpha'$\n",
    "* <strong>error_beta</strong>: the errors associated to the parameters $\\beta$\n",
    "* <strong>GoF_alpha</strong>: the goodness-of-fit associated to the parameters $\\alpha$ and $\\alpha'$\n",
    "* <strong>GoF_beta</strong>: the goodness-of-fit associated to the parameters $\\beta$\n",
    "\n",
    "The top row of this matrix contains the column names, so I just need to transform these data into a DataFrame to export it."
   ]
  },
  {
   "cell_type": "code",
   "execution_count": 8,
   "id": "f3b9a271",
   "metadata": {},
   "outputs": [],
   "source": [
    "df_params = pd.DataFrame(parameters[1::], columns=parameters[0])"
   ]
  },
  {
   "cell_type": "code",
   "execution_count": 9,
   "id": "e2426f52",
   "metadata": {},
   "outputs": [
    {
     "data": {
      "text/html": [
       "<div>\n",
       "<style scoped>\n",
       "    .dataframe tbody tr th:only-of-type {\n",
       "        vertical-align: middle;\n",
       "    }\n",
       "\n",
       "    .dataframe tbody tr th {\n",
       "        vertical-align: top;\n",
       "    }\n",
       "\n",
       "    .dataframe thead th {\n",
       "        text-align: right;\n",
       "    }\n",
       "</style>\n",
       "<table border=\"1\" class=\"dataframe\">\n",
       "  <thead>\n",
       "    <tr style=\"text-align: right;\">\n",
       "      <th></th>\n",
       "      <th>alpha</th>\n",
       "      <th>alpha_prime</th>\n",
       "      <th>beta</th>\n",
       "      <th>T</th>\n",
       "      <th>error_alpha</th>\n",
       "      <th>error_beta</th>\n",
       "      <th>GoF_alpha</th>\n",
       "      <th>GoF_beta</th>\n",
       "    </tr>\n",
       "  </thead>\n",
       "  <tbody>\n",
       "    <tr>\n",
       "      <th>0</th>\n",
       "      <td>0.0004761915412750449</td>\n",
       "      <td>0.0006633874235476734</td>\n",
       "      <td>0.25201790958798653</td>\n",
       "      <td>69</td>\n",
       "      <td>-0.0001793091781647771</td>\n",
       "      <td>-0.0003259588739038394</td>\n",
       "      <td>0.9952607147498591</td>\n",
       "      <td>0.9964144523870577</td>\n",
       "    </tr>\n",
       "    <tr>\n",
       "      <th>1</th>\n",
       "      <td>0.017137409494079412</td>\n",
       "      <td>0.006809033737639258</td>\n",
       "      <td>0.023786751612200046</td>\n",
       "      <td>nan</td>\n",
       "      <td>0.004072712828686653</td>\n",
       "      <td>-9.143545976919576e-06</td>\n",
       "      <td>0.9893671263175111</td>\n",
       "      <td>0.9998171290804616</td>\n",
       "    </tr>\n",
       "    <tr>\n",
       "      <th>2</th>\n",
       "      <td>5.302453030540602e-05</td>\n",
       "      <td>1.0891029495326745e-08</td>\n",
       "      <td>0.009052047799740942</td>\n",
       "      <td>nan</td>\n",
       "      <td>1.591856350957599e-06</td>\n",
       "      <td>0.0009541686851717995</td>\n",
       "      <td>0.9950597561521972</td>\n",
       "      <td>0.9895041444631102</td>\n",
       "    </tr>\n",
       "    <tr>\n",
       "      <th>3</th>\n",
       "      <td>0.0005625855358502913</td>\n",
       "      <td>3.604367051042229e-08</td>\n",
       "      <td>0.026613496717135008</td>\n",
       "      <td>nan</td>\n",
       "      <td>0.0008407891976264237</td>\n",
       "      <td>0.005954515678091743</td>\n",
       "      <td>0.9299985140508278</td>\n",
       "      <td>0.9812858078688546</td>\n",
       "    </tr>\n",
       "    <tr>\n",
       "      <th>4</th>\n",
       "      <td>0.003071537962503501</td>\n",
       "      <td>5.914626400313042e-06</td>\n",
       "      <td>0.03856698717750657</td>\n",
       "      <td>nan</td>\n",
       "      <td>-0.005870326923354985</td>\n",
       "      <td>-0.005408688616444168</td>\n",
       "      <td>0.9385774407653837</td>\n",
       "      <td>0.9881008850438229</td>\n",
       "    </tr>\n",
       "    <tr>\n",
       "      <th>...</th>\n",
       "      <td>...</td>\n",
       "      <td>...</td>\n",
       "      <td>...</td>\n",
       "      <td>...</td>\n",
       "      <td>...</td>\n",
       "      <td>...</td>\n",
       "      <td>...</td>\n",
       "      <td>...</td>\n",
       "    </tr>\n",
       "    <tr>\n",
       "      <th>67</th>\n",
       "      <td>9.91015540411969e-05</td>\n",
       "      <td>2.985278498501169e-06</td>\n",
       "      <td>0.2959636438772209</td>\n",
       "      <td>nan</td>\n",
       "      <td>-3.1267995978523366e-05</td>\n",
       "      <td>-5.814666868220186e-05</td>\n",
       "      <td>0.9938690203963679</td>\n",
       "      <td>0.9999289318493885</td>\n",
       "    </tr>\n",
       "    <tr>\n",
       "      <th>68</th>\n",
       "      <td>0.0017067393155840765</td>\n",
       "      <td>1.2252065738984093e-06</td>\n",
       "      <td>0.07257209855799727</td>\n",
       "      <td>nan</td>\n",
       "      <td>0.0006358549809283298</td>\n",
       "      <td>0.0011985573490553292</td>\n",
       "      <td>0.9756878977880344</td>\n",
       "      <td>0.9947263476641566</td>\n",
       "    </tr>\n",
       "    <tr>\n",
       "      <th>69</th>\n",
       "      <td>0.0012738001095546193</td>\n",
       "      <td>8.08936600937718e-06</td>\n",
       "      <td>0.10176659093947368</td>\n",
       "      <td>nan</td>\n",
       "      <td>-0.0017999912997730405</td>\n",
       "      <td>-0.012718913977116442</td>\n",
       "      <td>0.9697988036950832</td>\n",
       "      <td>0.9825114932814649</td>\n",
       "    </tr>\n",
       "    <tr>\n",
       "      <th>70</th>\n",
       "      <td>0.007629113807238286</td>\n",
       "      <td>1.8772481736157046e-06</td>\n",
       "      <td>0.08492526299406618</td>\n",
       "      <td>nan</td>\n",
       "      <td>-0.008267540552527208</td>\n",
       "      <td>-0.009404432088485293</td>\n",
       "      <td>0.9723524449252239</td>\n",
       "      <td>0.984084807234871</td>\n",
       "    </tr>\n",
       "    <tr>\n",
       "      <th>71</th>\n",
       "      <td>4.250536925946262e-09</td>\n",
       "      <td>0.0035530930176568987</td>\n",
       "      <td>0.126710232478643</td>\n",
       "      <td>nan</td>\n",
       "      <td>0.0103649596899964</td>\n",
       "      <td>0.03430930585027414</td>\n",
       "      <td>0.8557483806365316</td>\n",
       "      <td>0.9602734353312615</td>\n",
       "    </tr>\n",
       "  </tbody>\n",
       "</table>\n",
       "<p>72 rows × 8 columns</p>\n",
       "</div>"
      ],
      "text/plain": [
       "                    alpha             alpha_prime                  beta    T  \\\n",
       "0   0.0004761915412750449   0.0006633874235476734   0.25201790958798653   69   \n",
       "1    0.017137409494079412    0.006809033737639258  0.023786751612200046  nan   \n",
       "2   5.302453030540602e-05  1.0891029495326745e-08  0.009052047799740942  nan   \n",
       "3   0.0005625855358502913   3.604367051042229e-08  0.026613496717135008  nan   \n",
       "4    0.003071537962503501   5.914626400313042e-06   0.03856698717750657  nan   \n",
       "..                    ...                     ...                   ...  ...   \n",
       "67   9.91015540411969e-05   2.985278498501169e-06    0.2959636438772209  nan   \n",
       "68  0.0017067393155840765  1.2252065738984093e-06   0.07257209855799727  nan   \n",
       "69  0.0012738001095546193    8.08936600937718e-06   0.10176659093947368  nan   \n",
       "70   0.007629113807238286  1.8772481736157046e-06   0.08492526299406618  nan   \n",
       "71  4.250536925946262e-09   0.0035530930176568987     0.126710232478643  nan   \n",
       "\n",
       "                error_alpha              error_beta           GoF_alpha  \\\n",
       "0    -0.0001793091781647771  -0.0003259588739038394  0.9952607147498591   \n",
       "1      0.004072712828686653  -9.143545976919576e-06  0.9893671263175111   \n",
       "2     1.591856350957599e-06   0.0009541686851717995  0.9950597561521972   \n",
       "3     0.0008407891976264237    0.005954515678091743  0.9299985140508278   \n",
       "4     -0.005870326923354985   -0.005408688616444168  0.9385774407653837   \n",
       "..                      ...                     ...                 ...   \n",
       "67  -3.1267995978523366e-05  -5.814666868220186e-05  0.9938690203963679   \n",
       "68    0.0006358549809283298   0.0011985573490553292  0.9756878977880344   \n",
       "69   -0.0017999912997730405   -0.012718913977116442  0.9697988036950832   \n",
       "70    -0.008267540552527208   -0.009404432088485293  0.9723524449252239   \n",
       "71       0.0103649596899964     0.03430930585027414  0.8557483806365316   \n",
       "\n",
       "              GoF_beta  \n",
       "0   0.9964144523870577  \n",
       "1   0.9998171290804616  \n",
       "2   0.9895041444631102  \n",
       "3   0.9812858078688546  \n",
       "4   0.9881008850438229  \n",
       "..                 ...  \n",
       "67  0.9999289318493885  \n",
       "68  0.9947263476641566  \n",
       "69  0.9825114932814649  \n",
       "70   0.984084807234871  \n",
       "71  0.9602734353312615  \n",
       "\n",
       "[72 rows x 8 columns]"
      ]
     },
     "execution_count": 9,
     "metadata": {},
     "output_type": "execute_result"
    }
   ],
   "source": [
    "df_params"
   ]
  },
  {
   "cell_type": "markdown",
   "id": "99a69b6e",
   "metadata": {},
   "source": [
    "## Save parameters data"
   ]
  },
  {
   "cell_type": "code",
   "execution_count": 10,
   "id": "28fbf495",
   "metadata": {},
   "outputs": [],
   "source": [
    "df_params.to_csv('clean_data/parameters.csv', index=False)"
   ]
  }
 ],
 "metadata": {
  "kernelspec": {
   "display_name": "Python 3 (ipykernel)",
   "language": "python",
   "name": "python3"
  },
  "language_info": {
   "codemirror_mode": {
    "name": "ipython",
    "version": 3
   },
   "file_extension": ".py",
   "mimetype": "text/x-python",
   "name": "python",
   "nbconvert_exporter": "python",
   "pygments_lexer": "ipython3",
   "version": "3.9.12"
  }
 },
 "nbformat": 4,
 "nbformat_minor": 5
}
